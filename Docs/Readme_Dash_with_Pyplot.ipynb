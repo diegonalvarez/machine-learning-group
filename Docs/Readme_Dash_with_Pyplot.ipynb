{
  "nbformat": 4,
  "nbformat_minor": 0,
  "metadata": {
    "colab": {
      "name": "Readme Dash with Pyplot.ipynb",
      "provenance": [],
      "authorship_tag": "ABX9TyOGcBSP1UKT/BCAl6axgzEY",
      "include_colab_link": true
    },
    "kernelspec": {
      "name": "python3",
      "display_name": "Python 3"
    }
  },
  "cells": [
    {
      "cell_type": "markdown",
      "metadata": {
        "id": "view-in-github",
        "colab_type": "text"
      },
      "source": [
        "<a href=\"https://colab.research.google.com/github/diegonalvarez/machine-learning-group/blob/master/Readme_Dash_with_Pyplot.ipynb\" target=\"_parent\"><img src=\"https://colab.research.google.com/assets/colab-badge.svg\" alt=\"Open In Colab\"/></a>"
      ]
    },
    {
      "cell_type": "markdown",
      "metadata": {
        "id": "mEXG0K-hPVTR",
        "colab_type": "text"
      },
      "source": [
        "### Dash with Pyplot"
      ]
    },
    {
      "cell_type": "markdown",
      "metadata": {
        "id": "xTQU7Cx6Pg7_",
        "colab_type": "text"
      },
      "source": [
        "#### Instalar "
      ]
    },
    {
      "cell_type": "markdown",
      "metadata": {
        "id": "Iggpv5KcP98_",
        "colab_type": "text"
      },
      "source": [
        "\n",
        "\n",
        " \n",
        " "
      ]
    },
    {
      "cell_type": "markdown",
      "metadata": {
        "id": "DvjsXePwQDpd",
        "colab_type": "text"
      },
      "source": [
        "\n",
        "\n",
        "```\n",
        "!pip install dash==0.31.1\n",
        "!pip install dash-html-components==0.13.2  # HTML components\n",
        "!pip install dash-core-components==0.39.0  # Supercharged components\n",
        "!pip install dash-table==3.1.7  # Interactive DataTable comp\n",
        "```\n",
        "\n"
      ]
    },
    {
      "cell_type": "markdown",
      "metadata": {
        "id": "IAsRVyFHQR44",
        "colab_type": "text"
      },
      "source": [
        "\n",
        "\n",
        "```\n",
        "!pip install dash\n",
        "```\n",
        "\n"
      ]
    },
    {
      "cell_type": "markdown",
      "metadata": {
        "id": "sEKpwBFbRCzv",
        "colab_type": "text"
      },
      "source": [
        "#### Importar "
      ]
    },
    {
      "cell_type": "markdown",
      "metadata": {
        "id": "JahsSgj7RKC_",
        "colab_type": "text"
      },
      "source": [
        "\n",
        "\n",
        "```\n",
        "import dash\n",
        "import dash_core_components as dcc\n",
        "import dash_html_components as html\n",
        "```\n",
        "\n"
      ]
    },
    {
      "cell_type": "markdown",
      "metadata": {
        "id": "7UxOdyGpRO8h",
        "colab_type": "text"
      },
      "source": [
        "\n",
        "\n",
        "```\n",
        "external_stylesheets = ['https://codepen.io/chriddyp/pen/bWLwgP.css']\n",
        "app = dash.Dash(__name__, external_stylesheets=external_stylesheets)\n",
        "app.layout = html.Div(children=[\n",
        "    html.H1(children='Test con Dash para Covid19!'),\n",
        "html.Div(children='''\n",
        "        Dash: A web application .\n",
        "    '''),\n",
        "dcc.Graph(\n",
        "        id='example-graph',\n",
        "        figure={\n",
        "            'data': [\n",
        "                {'x': [1, 3, 3], 'y': [4, 9, 10], 'type': 'bar', 'name': 'SFi'},\n",
        "                {'x': [1, 2, 3], 'y': [2, 4, 2], 'type': 'bar', 'name': 'Montrealejjeje'},\n",
        "            ],\n",
        "            'layout': {\n",
        "                'title': 'Dash jejejje'\n",
        "            }\n",
        "        }\n",
        "    )\n",
        "])\n",
        "if __name__ == '__main__':\n",
        "    app.run_server(debug=False)\n",
        "```\n",
        "\n"
      ]
    },
    {
      "cell_type": "markdown",
      "metadata": {
        "id": "1p3-UM9yRcYL",
        "colab_type": "text"
      },
      "source": [
        "#### Por último entrar al puerto local que brinda la app."
      ]
    },
    {
      "cell_type": "code",
      "metadata": {
        "id": "OgqaEsYCSWZB",
        "colab_type": "code",
        "colab": {}
      },
      "source": [
        ""
      ],
      "execution_count": 0,
      "outputs": []
    }
  ]
}